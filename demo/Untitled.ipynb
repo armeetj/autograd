{
 "cells": [
  {
   "cell_type": "code",
   "execution_count": 1,
   "id": "a8a4a8f3-7137-4a11-aa4b-8c788b111f3a",
   "metadata": {},
   "outputs": [],
   "source": [
    "import sys, os\n",
    "sys.path.append(os.path.join(os.path.dirname(sys.path[0]),'src'))\n",
    "import nn"
   ]
  },
  {
   "cell_type": "code",
   "execution_count": 2,
   "id": "afe3c445-8734-4abe-aecb-3f95c66ea6e9",
   "metadata": {},
   "outputs": [],
   "source": [
    "a = nn.Module()"
   ]
  },
  {
   "cell_type": "code",
   "execution_count": 3,
   "id": "fdabcd4f-56a8-4dab-9b0b-a79cf8697450",
   "metadata": {},
   "outputs": [
    {
     "data": {
      "text/plain": [
       "[]"
      ]
     },
     "execution_count": 3,
     "metadata": {},
     "output_type": "execute_result"
    }
   ],
   "source": [
    "a.params()"
   ]
  },
  {
   "cell_type": "code",
   "execution_count": 4,
   "id": "4b9cbb84-37da-4dc8-9eb4-1c8c0b41b167",
   "metadata": {},
   "outputs": [
    {
     "data": {
      "text/plain": [
       "[Value(-0.9592376413380843, grad=0.0),\n",
       " Value(-0.06212713459114427, grad=0.0),\n",
       " Value(0.09559603689533813, grad=0.0),\n",
       " Value(0.0, grad=0.0)]"
      ]
     },
     "execution_count": 4,
     "metadata": {},
     "output_type": "execute_result"
    }
   ],
   "source": [
    "n = nn.Neuron(3)\n",
    "n.params()"
   ]
  },
  {
   "cell_type": "code",
   "execution_count": 5,
   "id": "dffed02a-c35a-40f4-9d6d-28fbe5d2506c",
   "metadata": {},
   "outputs": [
    {
     "data": {
      "text/plain": [
       "Value(0.8015144698516019, grad=0.0)"
      ]
     },
     "execution_count": 5,
     "metadata": {},
     "output_type": "execute_result"
    }
   ],
   "source": [
    "n([-1, 1, -1]) "
   ]
  },
  {
   "cell_type": "code",
   "execution_count": 6,
   "id": "73bfc9dd-bbf7-47d7-8e59-761a4603bcc5",
   "metadata": {},
   "outputs": [
    {
     "name": "stdout",
     "output_type": "stream",
     "text": [
      "Neuron(3)\n"
     ]
    }
   ],
   "source": [
    "print(n)"
   ]
  },
  {
   "cell_type": "code",
   "execution_count": 7,
   "id": "25387280-2713-4e25-aae0-b7f9a19981ff",
   "metadata": {},
   "outputs": [],
   "source": [
    "l1 = nn.Layer(3, 2)"
   ]
  },
  {
   "cell_type": "code",
   "execution_count": 8,
   "id": "483bd16c-e5ea-46aa-879e-176271a39a25",
   "metadata": {},
   "outputs": [
    {
     "data": {
      "text/plain": [
       "8"
      ]
     },
     "execution_count": 8,
     "metadata": {},
     "output_type": "execute_result"
    }
   ],
   "source": [
    "l1.nparams()"
   ]
  },
  {
   "cell_type": "code",
   "execution_count": 12,
   "id": "deb7ea92-0d94-4761-a0f5-35206f9a1a6d",
   "metadata": {},
   "outputs": [
    {
     "data": {
      "text/plain": [
       "Layer([3, 4, 5, 10, 10, 10]): ['Layer(N_in=3, N_out=4)', 'Layer(N_in=4, N_out=5)', 'Layer(N_in=5, N_out=10)', 'Layer(N_in=10, N_out=10)', 'Layer(N_in=10, N_out=10)']]"
      ]
     },
     "execution_count": 12,
     "metadata": {},
     "output_type": "execute_result"
    }
   ],
   "source": [
    "f = nn.MLP(3, [4, 5, 10, 10, 10])\n",
    "f"
   ]
  },
  {
   "cell_type": "code",
   "execution_count": 10,
   "id": "3a427dba-33b7-4fbd-b688-28cd2a3b4355",
   "metadata": {},
   "outputs": [
    {
     "data": {
      "text/plain": [
       "321"
      ]
     },
     "execution_count": 10,
     "metadata": {},
     "output_type": "execute_result"
    }
   ],
   "source": [
    "f.nparams()"
   ]
  },
  {
   "cell_type": "code",
   "execution_count": 11,
   "id": "c41931eb-badc-471b-8046-1f57d83625ab",
   "metadata": {},
   "outputs": [
    {
     "data": {
      "text/plain": [
       "[Value(-4.451497452570405, grad=0.0),\n",
       " Value(-0.07837063065744138, grad=0.0),\n",
       " Value(1.511944413343409, grad=0.0),\n",
       " Value(0.3406252298109791, grad=0.0),\n",
       " Value(-7.673088003650797, grad=0.0),\n",
       " Value(3.7365608100964014, grad=0.0),\n",
       " Value(7.114433951310847, grad=0.0),\n",
       " Value(-4.300919577812904, grad=0.0),\n",
       " Value(6.865081689415478, grad=0.0),\n",
       " Value(0.012414132729305638, grad=0.0)]"
      ]
     },
     "execution_count": 11,
     "metadata": {},
     "output_type": "execute_result"
    }
   ],
   "source": [
    "f([1, 2, 3])"
   ]
  },
  {
   "cell_type": "code",
   "execution_count": null,
   "id": "0ab8ab6b-bc07-493f-b5ef-4ebf022932bd",
   "metadata": {},
   "outputs": [],
   "source": []
  }
 ],
 "metadata": {
  "kernelspec": {
   "display_name": "Python 3 (ipykernel)",
   "language": "python",
   "name": "python3"
  },
  "language_info": {
   "codemirror_mode": {
    "name": "ipython",
    "version": 3
   },
   "file_extension": ".py",
   "mimetype": "text/x-python",
   "name": "python",
   "nbconvert_exporter": "python",
   "pygments_lexer": "ipython3",
   "version": "3.10.9"
  }
 },
 "nbformat": 4,
 "nbformat_minor": 5
}
