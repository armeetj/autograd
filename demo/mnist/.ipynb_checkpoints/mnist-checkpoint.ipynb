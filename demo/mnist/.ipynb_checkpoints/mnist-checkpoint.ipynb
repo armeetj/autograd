{
 "cells": [
  {
   "cell_type": "code",
   "execution_count": 1,
   "id": "a8a4a8f3-7137-4a11-aa4b-8c788b111f3a",
   "metadata": {},
   "outputs": [],
   "source": [
    "import sys, os\n",
    "sys.path.append(os.path.dirname(sys.path[0]))\n",
    "import autograd.nn as nn\n",
    "import autograd.engine as grad"
   ]
  },
  {
   "cell_type": "code",
   "execution_count": 2,
   "id": "deb7ea92-0d94-4761-a0f5-35206f9a1a6d",
   "metadata": {},
   "outputs": [
    {
     "data": {
      "text/plain": [
       "MLP([784, 100, 50, 10]): ['Layer(N_in=784, N_out=100)', 'Layer(N_in=100, N_out=50)', 'Layer(N_in=50, N_out=10)']]"
      ]
     },
     "execution_count": 2,
     "metadata": {},
     "output_type": "execute_result"
    }
   ],
   "source": [
    "f = nn.MLP(28 * 28, [100, 50, 10])\n",
    "f"
   ]
  },
  {
   "cell_type": "code",
   "execution_count": 3,
   "id": "3a427dba-33b7-4fbd-b688-28cd2a3b4355",
   "metadata": {},
   "outputs": [
    {
     "data": {
      "text/plain": [
       "84060"
      ]
     },
     "execution_count": 3,
     "metadata": {},
     "output_type": "execute_result"
    }
   ],
   "source": [
    "f.nparams()"
   ]
  },
  {
   "cell_type": "code",
   "execution_count": 4,
   "id": "b4a43841-a5fb-4a8d-a6df-ea023835a645",
   "metadata": {},
   "outputs": [
    {
     "data": {
      "text/plain": [
       "['test', 'test_labels', 'train', 'train_labels']"
      ]
     },
     "execution_count": 4,
     "metadata": {},
     "output_type": "execute_result"
    }
   ],
   "source": [
    "import numpy as np\n",
    "ds = np.load(\"mnist/mnist.npz\")\n",
    "ds.files"
   ]
  },
  {
   "cell_type": "code",
   "execution_count": 5,
   "id": "e64ddd76-eeef-405b-be2c-40f85bb895f3",
   "metadata": {},
   "outputs": [],
   "source": [
    "X_train = np.array(ds[\"train\"].T, float)\n",
    "y_train = np.array(ds[\"train_labels\"][0], int)\n",
    "X_test = np.array(ds[\"test\"].T, float)\n",
    "y_test = np.array(ds[\"test_labels\"][0], int)"
   ]
  },
  {
   "cell_type": "code",
   "execution_count": 6,
   "id": "42a5e4af-d21b-4395-89ec-ff44101723a2",
   "metadata": {},
   "outputs": [],
   "source": [
    "def one_hot_encode(x):\n",
    "    enc = np.zeros(10)\n",
    "    enc[x] = 1\n",
    "    return enc\n",
    "\n",
    "def one_hot_decode(enc):\n",
    "    x = np.argmax(enc)\n",
    "    return x"
   ]
  },
  {
   "cell_type": "code",
   "execution_count": 7,
   "id": "2f19a66b-dbec-4dd0-923b-920c5618200a",
   "metadata": {},
   "outputs": [],
   "source": [
    "X_train /= 255.0\n",
    "X_test /= 255.0"
   ]
  },
  {
   "cell_type": "code",
   "execution_count": 8,
   "id": "661831fb-a832-4862-b23e-00c625e28238",
   "metadata": {},
   "outputs": [],
   "source": [
    "y_train = np.array([one_hot_encode(y) for y in y_train])\n",
    "y_test = np.array([one_hot_encode(y) for y in y_test])"
   ]
  },
  {
   "cell_type": "code",
   "execution_count": 12,
   "id": "3616f75e-55f2-4c38-9393-03b1fc94d4f2",
   "metadata": {},
   "outputs": [
    {
     "name": "stderr",
     "output_type": "stream",
     "text": [
      "  0%|                                                                        | 0/10 [00:00<?, ?it/s]\n",
      "  0%|                                                                       | 0/100 [00:00<?, ?it/s]\u001b[A\n",
      "  1%|▋                                                              | 1/100 [00:01<02:24,  1.46s/it]\u001b[A\n",
      "  2%|█▎                                                             | 2/100 [00:03<03:00,  1.84s/it]\u001b[A\n",
      "  3%|█▉                                                             | 3/100 [00:06<03:32,  2.19s/it]\u001b[A\n",
      "  4%|██▌                                                            | 4/100 [00:08<03:31,  2.20s/it]\u001b[A\n",
      "  5%|███▏                                                           | 5/100 [00:10<03:27,  2.19s/it]\u001b[A\n",
      "  6%|███▊                                                           | 6/100 [00:13<03:43,  2.37s/it]\u001b[A\n",
      "  7%|████▍                                                          | 7/100 [00:15<03:37,  2.34s/it]\u001b[A\n",
      "  8%|█████                                                          | 8/100 [00:17<03:33,  2.32s/it]\u001b[A\n",
      "  9%|█████▋                                                         | 9/100 [00:20<03:28,  2.29s/it]\u001b[A\n",
      " 10%|██████▏                                                       | 10/100 [00:22<03:23,  2.26s/it]\u001b[A\n",
      " 11%|██████▊                                                       | 11/100 [00:24<03:31,  2.38s/it]\u001b[A\n",
      " 12%|███████▍                                                      | 12/100 [00:26<03:13,  2.19s/it]\u001b[A\n",
      " 13%|████████                                                      | 13/100 [00:29<03:25,  2.36s/it]\u001b[A\n",
      " 14%|████████▋                                                     | 14/100 [00:31<03:22,  2.35s/it]\u001b[A\n",
      " 15%|█████████▎                                                    | 15/100 [00:33<03:16,  2.31s/it]\u001b[A\n",
      " 16%|█████████▉                                                    | 16/100 [00:36<03:24,  2.44s/it]\u001b[A\n",
      " 17%|██████████▌                                                   | 17/100 [00:39<03:21,  2.43s/it]\u001b[A\n",
      " 18%|███████████▏                                                  | 18/100 [00:40<03:02,  2.22s/it]\u001b[A\n",
      " 19%|███████████▊                                                  | 19/100 [00:43<03:09,  2.34s/it]\u001b[A\n",
      " 20%|████████████▍                                                 | 20/100 [00:45<03:02,  2.28s/it]\u001b[A\n",
      " 21%|█████████████                                                 | 21/100 [00:47<02:56,  2.23s/it]\u001b[A\n",
      " 22%|█████████████▋                                                | 22/100 [00:50<03:03,  2.35s/it]\u001b[A\n",
      " 23%|██████████████▎                                               | 23/100 [00:52<03:00,  2.34s/it]\u001b[A\n",
      " 24%|██████████████▉                                               | 24/100 [00:54<02:57,  2.33s/it]\u001b[A\n",
      " 25%|███████████████▌                                              | 25/100 [00:57<02:56,  2.36s/it]\u001b[A\n",
      " 26%|████████████████                                              | 26/100 [00:59<02:57,  2.39s/it]\u001b[A\n",
      " 27%|████████████████▋                                             | 27/100 [01:02<02:56,  2.41s/it]\u001b[A\n",
      " 28%|█████████████████▎                                            | 28/100 [01:04<02:54,  2.42s/it]\u001b[A\n",
      " 29%|█████████████████▉                                            | 29/100 [01:07<02:51,  2.42s/it]\u001b[A\n",
      " 30%|██████████████████▌                                           | 30/100 [01:08<02:33,  2.20s/it]\u001b[A\n",
      " 31%|███████████████████▏                                          | 31/100 [01:11<02:38,  2.30s/it]\u001b[A\n",
      " 32%|███████████████████▊                                          | 32/100 [01:13<02:32,  2.24s/it]\u001b[A\n",
      " 33%|████████████████████▍                                         | 33/100 [01:15<02:25,  2.18s/it]\u001b[A\n",
      " 34%|█████████████████████                                         | 34/100 [01:18<02:30,  2.28s/it]\u001b[A\n",
      " 35%|█████████████████████▋                                        | 35/100 [01:20<02:26,  2.25s/it]\u001b[A\n",
      " 36%|██████████████████████▎                                       | 36/100 [01:22<02:20,  2.20s/it]\u001b[A\n",
      " 37%|██████████████████████▉                                       | 37/100 [01:24<02:27,  2.33s/it]\u001b[A\n",
      " 38%|███████████████████████▌                                      | 38/100 [01:27<02:25,  2.35s/it]\u001b[A\n",
      " 39%|████████████████████████▏                                     | 39/100 [01:29<02:24,  2.37s/it]\u001b[A\n",
      " 40%|████████████████████████▊                                     | 40/100 [01:32<02:22,  2.38s/it]\u001b[A\n",
      " 41%|█████████████████████████▍                                    | 41/100 [01:34<02:21,  2.40s/it]\u001b[A\n",
      " 42%|██████████████████████████                                    | 42/100 [01:37<02:19,  2.40s/it]\u001b[A\n",
      " 43%|██████████████████████████▋                                   | 43/100 [01:39<02:16,  2.39s/it]\u001b[A\n",
      " 44%|███████████████████████████▎                                  | 44/100 [01:41<02:12,  2.37s/it]\u001b[A\n",
      " 45%|███████████████████████████▉                                  | 45/100 [01:44<02:10,  2.38s/it]\u001b[A\n",
      " 46%|████████████████████████████▌                                 | 46/100 [01:46<02:09,  2.40s/it]\u001b[A\n",
      " 47%|█████████████████████████████▏                                | 47/100 [01:48<02:07,  2.41s/it]\u001b[A\n",
      " 48%|█████████████████████████████▊                                | 48/100 [01:51<02:03,  2.38s/it]\u001b[A\n",
      " 49%|██████████████████████████████▍                               | 49/100 [01:53<02:00,  2.37s/it]\u001b[A\n",
      " 50%|███████████████████████████████                               | 50/100 [01:56<01:58,  2.37s/it]\u001b[A\n",
      " 51%|███████████████████████████████▌                              | 51/100 [01:57<01:47,  2.20s/it]\u001b[A\n",
      " 52%|████████████████████████████████▏                             | 52/100 [02:02<01:53,  2.36s/it]\u001b[A\n",
      "  0%|                                                                        | 0/10 [02:02<?, ?it/s]\n"
     ]
    },
    {
     "ename": "KeyboardInterrupt",
     "evalue": "",
     "output_type": "error",
     "traceback": [
      "\u001b[0;31m---------------------------------------------------------------------------\u001b[0m",
      "\u001b[0;31mKeyboardInterrupt\u001b[0m                         Traceback (most recent call last)",
      "Cell \u001b[0;32mIn[12], line 11\u001b[0m\n\u001b[1;32m      9\u001b[0m \u001b[38;5;28;01mfor\u001b[39;00m i \u001b[38;5;129;01min\u001b[39;00m tqdm(\u001b[38;5;28mrange\u001b[39m(\u001b[38;5;28mlen\u001b[39m(X_train[:\u001b[38;5;241m100\u001b[39m])), leave\u001b[38;5;241m=\u001b[39m\u001b[38;5;28;01mTrue\u001b[39;00m, position\u001b[38;5;241m=\u001b[39m\u001b[38;5;241m1\u001b[39m):\n\u001b[1;32m     10\u001b[0m     x \u001b[38;5;241m=\u001b[39m X_train[i]\n\u001b[0;32m---> 11\u001b[0m     y_pred \u001b[38;5;241m=\u001b[39m np\u001b[38;5;241m.\u001b[39marray(\u001b[43mf\u001b[49m\u001b[43m(\u001b[49m\u001b[43mx\u001b[49m\u001b[43m)\u001b[49m)\n\u001b[1;32m     12\u001b[0m     y_actual \u001b[38;5;241m=\u001b[39m np\u001b[38;5;241m.\u001b[39marray(y_train[i])\n\u001b[1;32m     13\u001b[0m     \u001b[38;5;66;03m# print(y_pred, y_actual)\u001b[39;00m\n",
      "File \u001b[0;32m~/Developer/autograd/autograd/nn.py:66\u001b[0m, in \u001b[0;36mMLP.__call__\u001b[0;34m(self, x)\u001b[0m\n\u001b[1;32m     64\u001b[0m \u001b[38;5;28;01mdef\u001b[39;00m \u001b[38;5;21m__call__\u001b[39m(\u001b[38;5;28mself\u001b[39m, x):\n\u001b[1;32m     65\u001b[0m     \u001b[38;5;28;01mfor\u001b[39;00m layer \u001b[38;5;129;01min\u001b[39;00m \u001b[38;5;28mself\u001b[39m\u001b[38;5;241m.\u001b[39mlayers:\n\u001b[0;32m---> 66\u001b[0m         x \u001b[38;5;241m=\u001b[39m \u001b[43mlayer\u001b[49m\u001b[43m(\u001b[49m\u001b[43mx\u001b[49m\u001b[43m)\u001b[49m\n\u001b[1;32m     67\u001b[0m     \u001b[38;5;28;01mreturn\u001b[39;00m x\n",
      "File \u001b[0;32m~/Developer/autograd/autograd/nn.py:49\u001b[0m, in \u001b[0;36mLayer.__call__\u001b[0;34m(self, x)\u001b[0m\n\u001b[1;32m     47\u001b[0m \u001b[38;5;28;01mdef\u001b[39;00m \u001b[38;5;21m__call__\u001b[39m(\u001b[38;5;28mself\u001b[39m, x):\n\u001b[1;32m     48\u001b[0m     \u001b[38;5;28;01massert\u001b[39;00m \u001b[38;5;28mlen\u001b[39m(x) \u001b[38;5;241m==\u001b[39m \u001b[38;5;28mself\u001b[39m\u001b[38;5;241m.\u001b[39mN_in\n\u001b[0;32m---> 49\u001b[0m     out \u001b[38;5;241m=\u001b[39m [n(x) \u001b[38;5;28;01mfor\u001b[39;00m n \u001b[38;5;129;01min\u001b[39;00m \u001b[38;5;28mself\u001b[39m\u001b[38;5;241m.\u001b[39mneurons]\n\u001b[1;32m     50\u001b[0m     \u001b[38;5;28;01mreturn\u001b[39;00m out\n",
      "File \u001b[0;32m~/Developer/autograd/autograd/nn.py:49\u001b[0m, in \u001b[0;36m<listcomp>\u001b[0;34m(.0)\u001b[0m\n\u001b[1;32m     47\u001b[0m \u001b[38;5;28;01mdef\u001b[39;00m \u001b[38;5;21m__call__\u001b[39m(\u001b[38;5;28mself\u001b[39m, x):\n\u001b[1;32m     48\u001b[0m     \u001b[38;5;28;01massert\u001b[39;00m \u001b[38;5;28mlen\u001b[39m(x) \u001b[38;5;241m==\u001b[39m \u001b[38;5;28mself\u001b[39m\u001b[38;5;241m.\u001b[39mN_in\n\u001b[0;32m---> 49\u001b[0m     out \u001b[38;5;241m=\u001b[39m [\u001b[43mn\u001b[49m\u001b[43m(\u001b[49m\u001b[43mx\u001b[49m\u001b[43m)\u001b[49m \u001b[38;5;28;01mfor\u001b[39;00m n \u001b[38;5;129;01min\u001b[39;00m \u001b[38;5;28mself\u001b[39m\u001b[38;5;241m.\u001b[39mneurons]\n\u001b[1;32m     50\u001b[0m     \u001b[38;5;28;01mreturn\u001b[39;00m out\n",
      "File \u001b[0;32m~/Developer/autograd/autograd/nn.py:35\u001b[0m, in \u001b[0;36mNeuron.__call__\u001b[0;34m(self, x)\u001b[0m\n\u001b[1;32m     33\u001b[0m \u001b[38;5;28;01mif\u001b[39;00m \u001b[38;5;28mlen\u001b[39m(x) \u001b[38;5;241m!=\u001b[39m \u001b[38;5;28mself\u001b[39m\u001b[38;5;241m.\u001b[39mN:\n\u001b[1;32m     34\u001b[0m     \u001b[38;5;28;01mraise\u001b[39;00m \u001b[38;5;167;01mException\u001b[39;00m(\u001b[38;5;124mf\u001b[39m\u001b[38;5;124m\"\u001b[39m\u001b[38;5;124mExpected list of length: \u001b[39m\u001b[38;5;132;01m{\u001b[39;00m\u001b[38;5;28mself\u001b[39m\u001b[38;5;241m.\u001b[39mN\u001b[38;5;132;01m}\u001b[39;00m\u001b[38;5;124m\"\u001b[39m)\n\u001b[0;32m---> 35\u001b[0m \u001b[38;5;28;01mreturn\u001b[39;00m \u001b[38;5;28;43mself\u001b[39;49m\u001b[38;5;241;43m.\u001b[39;49m\u001b[43mactivate\u001b[49m\u001b[43m(\u001b[49m\u001b[43mx\u001b[49m\u001b[43m)\u001b[49m\n",
      "File \u001b[0;32m~/Developer/autograd/autograd/nn.py:22\u001b[0m, in \u001b[0;36mNeuron.activate\u001b[0;34m(self, x)\u001b[0m\n\u001b[1;32m     20\u001b[0m \u001b[38;5;28;01mdef\u001b[39;00m \u001b[38;5;21mactivate\u001b[39m(\u001b[38;5;28mself\u001b[39m, x):\n\u001b[1;32m     21\u001b[0m     \u001b[38;5;66;03m# return self.signal(x)\u001b[39;00m\n\u001b[0;32m---> 22\u001b[0m     \u001b[38;5;28;01mreturn\u001b[39;00m \u001b[38;5;28;43mself\u001b[39;49m\u001b[38;5;241;43m.\u001b[39;49m\u001b[43msignal\u001b[49m\u001b[43m(\u001b[49m\u001b[43mx\u001b[49m\u001b[43m)\u001b[49m\u001b[38;5;241m.\u001b[39msigmoid()\n",
      "File \u001b[0;32m~/Developer/autograd/autograd/nn.py:18\u001b[0m, in \u001b[0;36mNeuron.signal\u001b[0;34m(self, x)\u001b[0m\n\u001b[1;32m     17\u001b[0m \u001b[38;5;28;01mdef\u001b[39;00m \u001b[38;5;21msignal\u001b[39m(\u001b[38;5;28mself\u001b[39m, x):\n\u001b[0;32m---> 18\u001b[0m     \u001b[38;5;28;01mreturn\u001b[39;00m \u001b[38;5;28mself\u001b[39m\u001b[38;5;241m.\u001b[39mb \u001b[38;5;241m+\u001b[39m \u001b[38;5;28;43msum\u001b[39;49m\u001b[43m(\u001b[49m\u001b[43m[\u001b[49m\u001b[38;5;28;43mself\u001b[39;49m\u001b[38;5;241;43m.\u001b[39;49m\u001b[43mw\u001b[49m\u001b[43m[\u001b[49m\u001b[43mi\u001b[49m\u001b[43m]\u001b[49m\u001b[43m \u001b[49m\u001b[38;5;241;43m*\u001b[39;49m\u001b[43m \u001b[49m\u001b[43mx\u001b[49m\u001b[43m[\u001b[49m\u001b[43mi\u001b[49m\u001b[43m]\u001b[49m\u001b[43m \u001b[49m\u001b[38;5;28;43;01mfor\u001b[39;49;00m\u001b[43m \u001b[49m\u001b[43mi\u001b[49m\u001b[43m \u001b[49m\u001b[38;5;129;43;01min\u001b[39;49;00m\u001b[43m \u001b[49m\u001b[38;5;28;43mrange\u001b[39;49m\u001b[43m(\u001b[49m\u001b[38;5;28;43mself\u001b[39;49m\u001b[38;5;241;43m.\u001b[39;49m\u001b[43mN\u001b[49m\u001b[43m)\u001b[49m\u001b[43m]\u001b[49m\u001b[43m)\u001b[49m\n",
      "File \u001b[0;32m~/Developer/autograd/autograd/engine.py:23\u001b[0m, in \u001b[0;36mValue.__add__\u001b[0;34m(self, other)\u001b[0m\n\u001b[1;32m     20\u001b[0m     \u001b[38;5;28mself\u001b[39m\u001b[38;5;241m.\u001b[39m_backward \u001b[38;5;241m=\u001b[39m \u001b[38;5;28;01mlambda\u001b[39;00m: \u001b[38;5;28;01mNone\u001b[39;00m\n\u001b[1;32m     21\u001b[0m     \u001b[38;5;28mself\u001b[39m\u001b[38;5;241m.\u001b[39m_prev \u001b[38;5;241m=\u001b[39m \u001b[38;5;28mset\u001b[39m(_children)\n\u001b[0;32m---> 23\u001b[0m \u001b[38;5;28;01mdef\u001b[39;00m \u001b[38;5;21m__add__\u001b[39m(\u001b[38;5;28mself\u001b[39m, other):\n\u001b[1;32m     24\u001b[0m     other \u001b[38;5;241m=\u001b[39m parse_value(other)\n\u001b[1;32m     25\u001b[0m     res \u001b[38;5;241m=\u001b[39m Value(\u001b[38;5;28mself\u001b[39m\u001b[38;5;241m.\u001b[39mdata \u001b[38;5;241m+\u001b[39m other\u001b[38;5;241m.\u001b[39mdata, (\u001b[38;5;28mself\u001b[39m, other))\n",
      "\u001b[0;31mKeyboardInterrupt\u001b[0m: "
     ]
    }
   ],
   "source": [
    "epochs = 10\n",
    "verbose = True\n",
    "lr = 0.01\n",
    "from tqdm import tqdm\n",
    "\n",
    "for epoch in tqdm(range(epochs)):\n",
    "    # forward pass\n",
    "    loss = grad.Value(0)\n",
    "    for i in tqdm(range(len(X_train[:100])), leave=True, position=1):\n",
    "        x = X_train[i]\n",
    "        y_pred = np.array(f(x))\n",
    "        y_actual = np.array(y_train[i])\n",
    "        # print(y_pred, y_actual)\n",
    "        loss = y_pred - y_actual\n",
    "        # print(loss)\n",
    "        loss = sum([x ** 2 for x in loss])\n",
    "        loss = loss ** 0.5\n",
    "\n",
    "    # backward pass\n",
    "    loss.backward()\n",
    "\n",
    "    # update params\n",
    "    for p in f.params():\n",
    "        p.data -= lr * p.grad\n",
    "        p.zero_grad()\n",
    "\n",
    "    if verbose:\n",
    "        print(epoch, loss.data)\n",
    "        "
   ]
  },
  {
   "cell_type": "code",
   "execution_count": null,
   "id": "b3075e26-b219-469e-a163-00da93a099a9",
   "metadata": {},
   "outputs": [],
   "source": []
  }
 ],
 "metadata": {
  "kernelspec": {
   "display_name": "Python 3 (ipykernel)",
   "language": "python",
   "name": "python3"
  },
  "language_info": {
   "codemirror_mode": {
    "name": "ipython",
    "version": 3
   },
   "file_extension": ".py",
   "mimetype": "text/x-python",
   "name": "python",
   "nbconvert_exporter": "python",
   "pygments_lexer": "ipython3",
   "version": "3.10.9"
  }
 },
 "nbformat": 4,
 "nbformat_minor": 5
}
