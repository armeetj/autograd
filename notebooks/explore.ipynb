{
 "cells": [
  {
   "cell_type": "code",
   "execution_count": 35,
   "metadata": {},
   "outputs": [],
   "source": [
    "import math\n",
    "value_error = TypeError(\"Value type can only hold float scalars\")\n",
    "\n",
    "def parse_value(x):\n",
    "        if isinstance(x, (int, float)):\n",
    "            x = Value(float(x))\n",
    "        elif not isinstance(x, Value):\n",
    "            raise value_error\n",
    "        return x\n",
    "    \n",
    "class Value:\n",
    "    def __init__(self, data, _children=()):\n",
    "        if isinstance(data, (int, float)):\n",
    "            data = float(data)\n",
    "        else:\n",
    "            raise value_error\n",
    "        self.data = data\n",
    "        self.grad = 0.0\n",
    "        self._backward = lambda: None\n",
    "        self._prev = set(_children)\n",
    "    \n",
    "    def __add__(self, other):\n",
    "        other = parse_value(other)\n",
    "        res = Value(self.data + other.data, (self, other))\n",
    "        def _backward():\n",
    "            self.grad += res.grad\n",
    "            other.grad += res.grad\n",
    "        res._backward = _backward\n",
    "        return res\n",
    "    def __radd__(self, other):\n",
    "        return self + other\n",
    "\n",
    "    def __mul__(self, other):\n",
    "        other = parse_value(other)\n",
    "        res = Value(self.data * other.data, (self, other))\n",
    "        def _backward():\n",
    "            self.grad += other.data * res.grad\n",
    "            other.grad += self.data * res.grad\n",
    "        res._backward = _backward\n",
    "        return res\n",
    "    def __rmul__(self, other):\n",
    "        return self * other\n",
    "    def __neg__(self):\n",
    "        return self * -1\n",
    "        \n",
    "    def __sub__(self, other):\n",
    "        return self + (-other)\n",
    "    def __rsub__(self, other):\n",
    "        return -self + other\n",
    "\n",
    "    def __truediv__(self, other):\n",
    "        other = parse_value(other)\n",
    "        if other.data == 0:\n",
    "            raise ZeroDivisionError()\n",
    "        return self * other ** -1\n",
    "    def __rtruediv__(self, other):\n",
    "        other = parse_value(other)\n",
    "        return other / self\n",
    "\n",
    "    def exp(self):\n",
    "        res = Value(math.e ** self.data, (self,))\n",
    "        def _backward():\n",
    "            self.grad += res.data * res.grad\n",
    "        res._backward = _backward\n",
    "        return res\n",
    "\n",
    "    def sigmoid(self):\n",
    "        pass\n",
    "        \n",
    "    def tanh(self):\n",
    "        pass\n",
    "\n",
    "    def relu(self):\n",
    "        res = Value(max(0, self.data), (self,))\n",
    "        def _backward():\n",
    "            if self.data > 0:\n",
    "                self.grad += res.grad\n",
    "        res._backward = _backward\n",
    "        return res\n",
    "\n",
    "    def __pow__(self, other):\n",
    "        if not isinstance(other, (int, float)):\n",
    "            raise NotImplementedError(\"Value type can only be raised to int/float powers\")\n",
    "        res = Value(self.data ** other, (self,))\n",
    "        def _backward():\n",
    "            self.grad += (other * self.data ** (other - 1)) * res.grad\n",
    "        res._backward = _backward\n",
    "        return res\n",
    "    def __rpow__(self, other):\n",
    "        raise NotImplementedError(\"Value type can only be raised to int/float powers\")\n",
    "\n",
    "    def zero_grad(self):\n",
    "        self.grad = 0.0\n",
    "        \n",
    "    def backward(self):\n",
    "        _ordered = list()\n",
    "        _visited = set()\n",
    "        def add_list(curr):\n",
    "            if curr not in _visited:\n",
    "                _visited.add(curr)\n",
    "                for p in curr._prev:\n",
    "                    add_list(p)\n",
    "                _ordered.append(curr)\n",
    "        add_list(self)\n",
    "        self.grad = 1.0\n",
    "        for value in reversed(_ordered):\n",
    "            value._backward()\n",
    "\n",
    "    def __float__(self):\n",
    "        return self.data\n",
    "        \n",
    "    def __repr__(self):\n",
    "        return f\"Value({self.data}, grad={self.grad})\""
   ]
  },
  {
   "cell_type": "code",
   "execution_count": 36,
   "metadata": {},
   "outputs": [
    {
     "name": "stdout",
     "output_type": "stream",
     "text": [
      "[0]\tx: 9.024: f(x): 38416.0\n",
      "[1000]\tx: 6.3505989247898: f(x): 0.015139010989210725\n",
      "[2000]\tx: 6.248917153024456: f(x): 0.0038428205805274666\n",
      "[3000]\tx: 6.203523253643355: f(x): 0.0017168964178104946\n",
      "[4000]\tx: 6.1763812606098085: f(x): 0.0009683358550389645\n",
      "[5000]\tx: 6.157828121108429: f(x): 0.0006207413540471358\n",
      "[6000]\tx: 6.144118450433309: f(x): 0.0004315416237252089\n",
      "[7000]\tx: 6.133455585691857: f(x): 0.0003173005345447142\n",
      "[8000]\tx: 6.1248559227151365: f(x): 0.00024307759708722782\n",
      "[9000]\tx: 6.117729787268654: f(x): 0.00019215060742499752\n",
      "[10000]\tx: 6.111699338768181: f(x): 0.00015570018082493382\n"
     ]
    }
   ],
   "source": [
    "# minimize (x-6)^4\n",
    "x = Value(20)\n",
    "lr = 0.001\n",
    "epochs = 10000\n",
    "for i in range(epochs + 1):\n",
    "    f = (x - 6) ** 4\n",
    "    f = f.relu()\n",
    "    f.backward()\n",
    "    x.data -= lr * x.grad\n",
    "    if i % (epochs / 10) == 0:        \n",
    "        print(f\"[{i}]\\tx: {x.data}: f(x): {f.data}\")\n",
    "    x.zero_grad()"
   ]
  },
  {
   "cell_type": "code",
   "execution_count": 37,
   "metadata": {},
   "outputs": [
    {
     "data": {
      "text/plain": [
       "[<matplotlib.lines.Line2D at 0x1352aed10>]"
      ]
     },
     "execution_count": 37,
     "metadata": {},
     "output_type": "execute_result"
    },
    {
     "data": {
      "image/png": "[encoded data removed]",
      "text/plain": [
       "<Figure size 640x480 with 1 Axes>"
      ]
     },
     "metadata": {},
     "output_type": "display_data"
    }
   ],
   "source": [
    "import numpy as np\n",
    "import matplotlib.pyplot as plt\n",
    "def get_val(x):\n",
    "    x = Value(x)\n",
    "    f = (x - 6) ** 3\n",
    "    f = f.relu()\n",
    "    f = f.exp()\n",
    "    return f\n",
    "\n",
    "xs = np.array(np.linspace(-10, 10, 50), dtype=float)\n",
    "ys = np.array([get_val(x) for x in xs])\n",
    "plt.plot(xs, ys)"
   ]
  },
  {
   "cell_type": "code",
   "execution_count": null,
   "metadata": {},
   "outputs": [],
   "source": []
  }
 ],
 "metadata": {
  "kernelspec": {
   "display_name": "Python 3 (ipykernel)",
   "language": "python",
   "name": "python3"
  },
  "language_info": {
   "codemirror_mode": {
    "name": "ipython",
    "version": 3
   },
   "file_extension": ".py",
   "mimetype": "text/x-python",
   "name": "python",
   "nbconvert_exporter": "python",
   "pygments_lexer": "ipython3",
   "version": "3.10.9"
  }
 },
 "nbformat": 4,
 "nbformat_minor": 4
}
