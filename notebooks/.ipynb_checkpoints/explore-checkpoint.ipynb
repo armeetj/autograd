{
 "cells": [
  {
   "cell_type": "code",
   "execution_count": 153,
   "metadata": {},
   "outputs": [],
   "source": [
    "value_error = TypeError(\"Value type can only hold float scalars\")\n",
    "\n",
    "def parse_value(x):\n",
    "        if isinstance(x, float) or isinstance(x, int):\n",
    "            x = Value(float(x))\n",
    "        elif not isinstance(x, Value):\n",
    "            raise value_error\n",
    "        return x\n",
    "    \n",
    "class Value:\n",
    "    def __init__(self, data, _children=()):\n",
    "        if isinstance(data, float) or isinstance(data, int):\n",
    "            data = float(data)\n",
    "        else:\n",
    "            raise value_error\n",
    "        self.data = data\n",
    "        self.grad = 0.0\n",
    "        self._backward = lambda: None\n",
    "        self._prev = set(_children)\n",
    "    \n",
    "    def __add__(self, other):\n",
    "        other = parse_value(other)\n",
    "        return Value(self.data + other.data, (self, other))\n",
    "    def __radd__(self, other):\n",
    "        return self + other\n",
    "\n",
    "    def __mul__(self, other):\n",
    "        other = parse_value(other)\n",
    "        return Value(self.data * other.data, (self, other))\n",
    "    def __rmul__(self, other):\n",
    "        return self * other\n",
    "    def __neg__(self):\n",
    "        return Value(-self.data)\n",
    "        \n",
    "    def __sub__(self, other):\n",
    "        return self + (-1 * other)\n",
    "    def __rsub__(self, other):\n",
    "        return -1 * self + other\n",
    "\n",
    "    def __truediv__(self, other):\n",
    "        other = parse_value(other)\n",
    "        if other.data == 0:\n",
    "            raise ZeroDivisionError()\n",
    "        return Value(self.data / other.data)\n",
    "    def __rtruediv__(self, other):\n",
    "        if self.data == 0:\n",
    "            raise ZeroDivisionError()\n",
    "        return Value(other / self.data)\n",
    "\n",
    "    def __pow__(self, other):\n",
    "        other = parse_value(other)\n",
    "        return Value(self.data ** other.data)\n",
    "    def __rpow__(self, other):\n",
    "        other = parse_value(other)\n",
    "        return Value(other.data ** self.data)\n",
    "\n",
    "    def __eq__(self, other):\n",
    "        other = parse_value(other)\n",
    "        return self.data == other.data\n",
    "    def __req__(self, other):\n",
    "        other = parse_value(other)\n",
    "        return self == other\n",
    "        \n",
    "    def __repr__(self):\n",
    "        return f\"Value({self.data}, grad={self.grad})\""
   ]
  },
  {
   "cell_type": "code",
   "execution_count": 154,
   "metadata": {},
   "outputs": [
    {
     "data": {
      "text/plain": [
       "True"
      ]
     },
     "execution_count": 154,
     "metadata": {},
     "output_type": "execute_result"
    }
   ],
   "source": [
    "Value(2) == Value(2)"
   ]
  },
  {
   "cell_type": "code",
   "execution_count": 157,
   "metadata": {},
   "outputs": [
    {
     "data": {
      "text/plain": [
       "True"
      ]
     },
     "execution_count": 157,
     "metadata": {},
     "output_type": "execute_result"
    }
   ],
   "source": [
    "3.2 ** 13 == 3.2 ** Value(13)"
   ]
  },
  {
   "cell_type": "code",
   "execution_count": null,
   "metadata": {},
   "outputs": [],
   "source": []
  }
 ],
 "metadata": {
  "kernelspec": {
   "display_name": "Python 3 (ipykernel)",
   "language": "python",
   "name": "python3"
  },
  "language_info": {
   "codemirror_mode": {
    "name": "ipython",
    "version": 3
   },
   "file_extension": ".py",
   "mimetype": "text/x-python",
   "name": "python",
   "nbconvert_exporter": "python",
   "pygments_lexer": "ipython3",
   "version": "3.10.9"
  }
 },
 "nbformat": 4,
 "nbformat_minor": 4
}
