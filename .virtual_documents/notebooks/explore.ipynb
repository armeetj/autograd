value_error = TypeError("Value type can only hold float scalars")

def parse_value(x):
        if isinstance(x, (int, float)):
            x = Value(float(x))
        elif not isinstance(x, Value):
            raise value_error
        return x
    
class Value:
    def __init__(self, data, _children=()):
        if isinstance(data, (int, float)):
            data = float(data)
        else:
            raise value_error
        self.data = data
        self.grad = 0.0
        self._backward = lambda: None
        self._prev = set(_children)
    
    def __add__(self, other):
        other = parse_value(other)
        res = Value(self.data + other.data, (self, other))
        def _backward():
            self.grad += res.grad
            other.grad += res.grad
        res._backward = _backward
        return res
    def __radd__(self, other):
        return self + other

    def __mul__(self, other):
        other = parse_value(other)
        res = Value(self.data * other.data, (self, other))
        def _backward():
            self.grad += other.data * res.grad
            other.grad += self.data * res.grad
        res._backward = _backward
        return res
    def __rmul__(self, other):
        return self * other
    def __neg__(self):
        return self * -1
        
    def __sub__(self, other):
        return self + (-other)
    def __rsub__(self, other):
        return -self + other

    def __truediv__(self, other):
        other = parse_value(other)
        if other.data == 0:
            raise ZeroDivisionError()
        return self * other ** -1
    def __rtruediv__(self, other):
        other = parse_value(other)
        return other / self

    def __pow__(self, other):
        if not isinstance(other, (int, float)):
            raise NotImplementedError("Value type can only be raised to int/float powers")
        res = Value(self.data ** other, (self,))
        def _backward():
            self.grad += (other * self.data ** (other - 1)) * res.grad
        res._backward = _backward
        return res
    def __rpow__(self, other):
        raise NotImplementedError("Value type can only be raised to int/float powers")
    def __repr__(self):
        return f"Value({self.data}, grad={self.grad})"



x = Value(2)
y = Value(3)
f = x ** 3

f.grad = 1.0
f._backward()
print(x, y, f, sep="\n")



