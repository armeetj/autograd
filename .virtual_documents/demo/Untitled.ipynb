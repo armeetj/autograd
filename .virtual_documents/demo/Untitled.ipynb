import sys, os
sys.path.append(os.path.join(os.path.dirname(sys.path[0]),'src'))
import nn


a = nn.Module()


a.params()


n = nn.Neuron(3)
n.params()


n([-1, 1, -1]) 


print(n)


l1 = nn.Layer(3, 2)


l1.nparams()


f = nn.MLP(3, [4, 5, 10, 10, 10])
f


f.nparams()


f([1, 2, 3])



