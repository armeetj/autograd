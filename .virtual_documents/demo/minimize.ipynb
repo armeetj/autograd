import sys, os
sys.path.append(os.path.join(os.path.dirname(sys.path[0]),'src'))
# import autograd library
import grad
import numpy as np
import matplotlib.pyplot as plt


# initialize params
x = grad.Value(7)
y = grad.Value(3)


verbose = True
lr = 0.001
epochs = 20000
xs = np.arange(0, epochs + 1, 1)
ys = []

for i in range(epochs + 1):
    # forward
    f = (x - y) ** 3 + y.exp()
    f = f.relu() + y
    ys.append(f.data)

    # backward
    f.backward()
    
    # update params
    x.data -= lr * x.grad
    y.data -= lr * y.grad

    # zero grad for next iteration
    x.zero_grad()
    y.zero_grad()

    # debugging info
    if verbose and i % (epochs / 10) == 0:        
        print(f"[{i}]\tx, y: {x.data} {y.data}: f(x): {f.data}")

# plot f(x, y) over time (iterations)
plt.plot(xs, ys)
plt.xlabel("# iterations")
plt.ylabel("f(x, y)")
plt.show()


%matplotlib notebook
%matplotlib inline

import matplotlib.animation as animation

sampled_xs = xs[::200]
sampled_ys = ys[::200]

def update(frame):
    plt.cla()  # Clear the previous frame
    plt.plot(sampled_xs[:frame], sampled_ys[:frame])  # Plot ys against xs up to the current frame
    plt.xlim(0, 20000)
    plt.ylim(-10, 20)
    plt.xlabel('# iterations')
    plt.ylabel('f(x, y)')
    plt.title('Minimizing f over 20k iterations')
    plt.grid(True)
    
fig = plt.figure()
ani = animation.FuncAnimation(fig, update, frames=len(sampled_xs), interval=1)  # Interval in milliseconds between frames
writer = animation.FFMpegWriter(fps=30, bitrate=1800)
ani.save('minimize.mp4', writer=writer)
